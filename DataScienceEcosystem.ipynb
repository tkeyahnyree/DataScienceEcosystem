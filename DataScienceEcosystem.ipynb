{
 "cells": [
  {
   "cell_type": "markdown",
   "id": "314a3623-a211-4c5e-abd9-0b96ed488627",
   "metadata": {
    "tags": []
   },
   "source": [
    "# Data Science Tools and Ecosystem"
   ]
  },
  {
   "cell_type": "markdown",
   "id": "f0a611a7-65c9-4f1d-b93c-4b529242e634",
   "metadata": {
    "tags": []
   },
   "source": [
    "In this notebook, Data Science Tools and Ecosystem are summarized."
   ]
  },
  {
   "cell_type": "code",
   "execution_count": null,
   "id": "dae16242-0d5d-44d8-b899-61348adf9185",
   "metadata": {},
   "outputs": [],
   "source": []
  },
  {
   "cell_type": "markdown",
   "id": "f77595f1-0144-45bd-95d7-876dda0c0705",
   "metadata": {},
   "source": [
    "Some of the commonly used libraries used by Data Scientists include:"
   ]
  },
  {
   "cell_type": "markdown",
   "id": "1cf9ca6a-df9b-4ef4-b01d-0bc3222df034",
   "metadata": {},
   "source": [
    "    1.TensorFlow \n",
    "    2.Pandas\n",
    "    3.NumPy"
   ]
  },
  {
   "cell_type": "markdown",
   "id": "416e254e-a310-472e-85bb-e766f0e15ad4",
   "metadata": {},
   "source": [
    "|Data Science Tools|\n",
    "|------------------|\n",
    "|Rstudio|\n",
    "|ApacheSpark|\n",
    "|ApacheHadoop|"
   ]
  },
  {
   "cell_type": "markdown",
   "id": "25ddd4f5-ef3a-4f79-8f0c-0846e1a4da74",
   "metadata": {
    "tags": []
   },
   "source": [
    "### Below are a few examples of arithmetic expressions in Python"
   ]
  },
  {
   "cell_type": "markdown",
   "id": "cd559f77-a6bf-4d86-82dd-9d7b98dc6b53",
   "metadata": {},
   "source": [
    "This is a simple arithmetic expession to multiply then add integers"
   ]
  },
  {
   "cell_type": "code",
   "execution_count": 6,
   "id": "938e45bf-f69c-40ba-a461-d1f31e6e3df7",
   "metadata": {},
   "outputs": [
    {
     "data": {
      "text/plain": [
       "17"
      ]
     },
     "execution_count": 6,
     "metadata": {},
     "output_type": "execute_result"
    }
   ],
   "source": [
    "(3*4)+5"
   ]
  },
  {
   "cell_type": "code",
   "execution_count": null,
   "id": "5760b35b-f3be-41d7-b286-93bd7f598b7a",
   "metadata": {},
   "outputs": [],
   "source": []
  },
  {
   "cell_type": "markdown",
   "id": "d14b5d9b-9c8f-4372-90bc-aa3e8ac94089",
   "metadata": {},
   "source": [
    "This will convert 200 minutes to hours by diving by 60"
   ]
  },
  {
   "cell_type": "code",
   "execution_count": 11,
   "id": "2d248f7d-8431-4058-81b0-077fb923cddf",
   "metadata": {},
   "outputs": [
    {
     "name": "stdout",
     "output_type": "stream",
     "text": [
      "3.3333333333333335\n"
     ]
    }
   ],
   "source": [
    "minutes = 200\n",
    "hours = minutes /60\n",
    "print(hours)"
   ]
  },
  {
   "cell_type": "code",
   "execution_count": null,
   "id": "7c636db8-e9c2-48d5-af15-651ed9046d8d",
   "metadata": {},
   "outputs": [],
   "source": []
  },
  {
   "cell_type": "markdown",
   "id": "a3bc54de-0959-408c-ac74-d35dab53fbb2",
   "metadata": {},
   "source": [
    "__Objectives:__"
   ]
  },
  {
   "cell_type": "markdown",
   "id": "11bb110d-62d3-4bf4-bb5a-d69a640052b4",
   "metadata": {},
   "source": [
    "    -List popular languages for Data Scientists\n",
    "    -Express simple arithmetic with integers\n",
    "    -Demonstrate examples of Markdown and Code cells\n"
   ]
  },
  {
   "cell_type": "markdown",
   "id": "07a0ca0b-ffdb-4f74-a2ae-2c9d4d827f1e",
   "metadata": {},
   "source": [
    "## Author"
   ]
  },
  {
   "cell_type": "markdown",
   "id": "7377938c-8d1e-40e2-b339-38b2bb9017d3",
   "metadata": {},
   "source": [
    "T'Keyah Marshall"
   ]
  },
  {
   "cell_type": "code",
   "execution_count": null,
   "id": "88a0e952-4ea5-4256-86ca-4196f299e174",
   "metadata": {},
   "outputs": [],
   "source": []
  }
 ],
 "metadata": {
  "kernelspec": {
   "display_name": "anaconda-panel-2023.05-py310",
   "language": "python",
   "name": "conda-env-anaconda-panel-2023.05-py310-py"
  },
  "language_info": {
   "codemirror_mode": {
    "name": "ipython",
    "version": 3
   },
   "file_extension": ".py",
   "mimetype": "text/x-python",
   "name": "python",
   "nbconvert_exporter": "python",
   "pygments_lexer": "ipython3",
   "version": "3.11.4"
  }
 },
 "nbformat": 4,
 "nbformat_minor": 5
}
