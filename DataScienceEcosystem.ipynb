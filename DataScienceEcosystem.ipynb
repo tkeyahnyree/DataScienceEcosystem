{
 "cells": [
  {
   "cell_type": "markdown",
   "id": "0d7ea22f",
   "metadata": {},
   "source": [
    "# Data Science Tools and Ecosystem"
   ]
  },
  {
   "cell_type": "markdown",
   "id": "254c71eb",
   "metadata": {},
   "source": [
    "In this notebook, Data Science Tools and Ecosystem are summarized."
   ]
  },
  {
   "cell_type": "code",
   "execution_count": null,
   "id": "5041a784",
   "metadata": {},
   "outputs": [],
   "source": []
  },
  {
   "cell_type": "markdown",
   "id": "e274b7c3",
   "metadata": {},
   "source": [
    "Some of the popular languages that Data Scientists use are:"
   ]
  },
  {
   "cell_type": "markdown",
   "id": "ba11647a",
   "metadata": {},
   "source": [
    "    1.Python\n",
    "    2.SQL\n",
    "    3.R"
   ]
  },
  {
   "cell_type": "markdown",
   "id": "ef3c0228",
   "metadata": {},
   "source": [
    "Some of the commonly used libraries used by Data Scientists include:"
   ]
  },
  {
   "cell_type": "markdown",
   "id": "fdfeca64",
   "metadata": {},
   "source": [
    "    1.TensorFlow\n",
    "    2.NumPy\n",
    "    3.Pandas"
   ]
  },
  {
   "cell_type": "markdown",
   "id": "9c6f2dec",
   "metadata": {},
   "source": [
    "|Data Science Tools|\n",
    "|------------------|\n",
    "|SAS|\n",
    "|ggplot|\n",
    "|ApacheSpark|"
   ]
  },
  {
   "cell_type": "code",
   "execution_count": null,
   "id": "18bdaa04",
   "metadata": {},
   "outputs": [],
   "source": []
  },
  {
   "cell_type": "markdown",
   "id": "12cf1e50",
   "metadata": {},
   "source": [
    "### Below are a few examples of evaluating arithmetic expressions in Python"
   ]
  },
  {
   "cell_type": "code",
   "execution_count": 2,
   "id": "8531e04b",
   "metadata": {},
   "outputs": [
    {
     "data": {
      "text/plain": [
       "17"
      ]
     },
     "execution_count": 2,
     "metadata": {},
     "output_type": "execute_result"
    }
   ],
   "source": [
    "(3*4)+5"
   ]
  },
  {
   "cell_type": "code",
   "execution_count": 3,
   "id": "073c37ad",
   "metadata": {},
   "outputs": [],
   "source": [
    "# this will convert 200 minutes to hours by diving by 60"
   ]
  },
  {
   "cell_type": "code",
   "execution_count": 5,
   "id": "8a455f8d",
   "metadata": {},
   "outputs": [
    {
     "name": "stdout",
     "output_type": "stream",
     "text": [
      "3.3333333333333335\n"
     ]
    }
   ],
   "source": [
    "minutes = 200\n",
    "hours = minutes/60\n",
    "print(hours)"
   ]
  },
  {
   "cell_type": "markdown",
   "id": "c7909e61",
   "metadata": {},
   "source": [
    "**Objectives:**"
   ]
  },
  {
   "cell_type": "markdown",
   "id": "a3d4e041",
   "metadata": {},
   "source": [
    "    +List popular languages for Data Science\n",
    "    +Evaluate expressions in Python\n",
    "    +Stylize Markdown text"
   ]
  },
  {
   "cell_type": "markdown",
   "id": "427ad74a",
   "metadata": {},
   "source": [
    "## Author\n",
    "T'Keyah Marshall"
   ]
  },
  {
   "cell_type": "code",
   "execution_count": null,
   "id": "9042ff08",
   "metadata": {},
   "outputs": [],
   "source": []
  }
 ],
 "metadata": {
  "kernelspec": {
   "display_name": "Python 3 (ipykernel)",
   "language": "python",
   "name": "python3"
  },
  "language_info": {
   "codemirror_mode": {
    "name": "ipython",
    "version": 3
   },
   "file_extension": ".py",
   "mimetype": "text/x-python",
   "name": "python",
   "nbconvert_exporter": "python",
   "pygments_lexer": "ipython3",
   "version": "3.8.2"
  }
 },
 "nbformat": 4,
 "nbformat_minor": 5
}
